{
 "cells": [
  {
   "cell_type": "code",
   "execution_count": 7,
   "metadata": {
    "collapsed": true
   },
   "outputs": [],
   "source": [
    "%matplotlib inline\n",
    "import numpy as np\n",
    "import matplotlib.pyplot as plt\n",
    "import functools\n",
    "import math\n",
    "import neurons\n"
   ]
  },
  {
   "cell_type": "code",
   "execution_count": 8,
   "metadata": {
    "collapsed": false
   },
   "outputs": [
    {
     "data": {
      "text/plain": [
       "<matplotlib.image.AxesImage at 0x105d0b588>"
      ]
     },
     "execution_count": 8,
     "metadata": {},
     "output_type": "execute_result"
    },
    {
     "data": {
      "image/png": "[encoded data removed]",
      "text/plain": [
       "<matplotlib.figure.Figure at 0x105b640b8>"
      ]
     },
     "metadata": {},
     "output_type": "display_data"
    }
   ],
   "source": [
    "# number of iterations.\n",
    "iterations  = 1\n",
    "\n",
    "# create a random set of 15 training RGB values.\n",
    "training_set = [ x for x in np.random.random((15,3))]\n",
    "\n",
    "best_matching_units = []\n",
    "\n",
    "# Create a 50x50 array of neurons with 3 random weights each.\n",
    "matrix_width = 10;\n",
    "output_neurons = [[neurons.StepActivationNeuron(np.random.random(3), 1) for y in range(matrix_width)] for z in range(matrix_width)]\n",
    "output_weights = [[neuron.weights for neuron in row] for row in output_neurons]\n",
    "\n",
    "\n",
    "def find_euclidian_distance(training_item, neuron):\n",
    "    # find the difference squared between the vertecies of the training item and the neuron weights\n",
    "    differences = [(feature - neuron.weights[index])**2 for index, feature in enumerate(training_item)]\n",
    "    \n",
    "    # find the sum of the computed differences\n",
    "    sum =  functools.reduce(lambda x,y : x + y, differences)\n",
    "    \n",
    "    square_root = math.sqrt(sum)\n",
    "    return square_root\n",
    "    \n",
    "#Find the best matching neuron for each training item\n",
    "for training_item in training_set:\n",
    "    distances = [[find_euclidian_distance(training_item, neuron) for neuron in row] for row in output_neurons]\n",
    "    # the neuron with the smalleest distance fron the training example\n",
    "    best_matching_index = np.argmin(distances);\n",
    "    best_matching_index_tuple = np.unravel_index(best_matching_index, (matrix_width, matrix_width));\n",
    "#     print(distances)\n",
    "#     print(best_matching_index)\n",
    "#     print(best_matching_index_tuple)\n",
    "#     print(distances[best_matching_index_tuple[0]][best_matching_index_tuple[1]])\n",
    "    \n",
    "    # print(training_item)\n",
    "    \n",
    "# plot the weights as rgb colors.\n",
    "plt.imshow(output_weights, interpolation = \"none\")\n"
   ]
  },
  {
   "cell_type": "code",
   "execution_count": null,
   "metadata": {
    "collapsed": true
   },
   "outputs": [],
   "source": []
  }
 ],
 "metadata": {
  "kernelspec": {
   "display_name": "Python 3",
   "language": "python",
   "name": "python3"
  },
  "language_info": {
   "codemirror_mode": {
    "name": "ipython",
    "version": 3
   },
   "file_extension": ".py",
   "mimetype": "text/x-python",
   "name": "python",
   "nbconvert_exporter": "python",
   "pygments_lexer": "ipython3",
   "version": "3.4.4"
  }
 },
 "nbformat": 4,
 "nbformat_minor": 0
}
