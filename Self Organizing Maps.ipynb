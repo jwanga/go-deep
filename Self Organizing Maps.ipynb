{
 "cells": [
  {
   "cell_type": "code",
   "execution_count": 1,
   "metadata": {
    "collapsed": true
   },
   "outputs": [],
   "source": [
    "%matplotlib inline\n",
    "import numpy as np\n",
    "import matplotlib.pyplot as plt\n",
    "import functools\n",
    "import math\n",
    "import neurons\n"
   ]
  },
  {
   "cell_type": "code",
   "execution_count": 2,
   "metadata": {
    "collapsed": false
   },
   "outputs": [
    {
     "data": {
      "text/plain": [
       "0.17320508075688776"
      ]
     },
     "execution_count": 2,
     "metadata": {},
     "output_type": "execute_result"
    }
   ],
   "source": [
    "def calculate_euclidian_distance(vector1, vector2):\n",
    "    '''\n",
    "    Finds the euclidian distance between the features of a training item and the wieghts of a passed neuron.\n",
    "    '''\n",
    "    # find the difference squared between the vertecies of the training item and the neuron weights\n",
    "    differences = [(feature - vector2[index])**2 for index, feature in enumerate(vector1)]\n",
    "    \n",
    "    # find the sum of the computed differences\n",
    "    sum =  functools.reduce(lambda x,y : x + y, differences)\n",
    "    \n",
    "    square_root = math.sqrt(sum)\n",
    "    return square_root\n",
    "    \n",
    "calculate_euclidian_distance([.1,.2,.3], neurons.StepActivationNeuron([.2, .3, .4], 1).weights )"
   ]
  },
  {
   "cell_type": "code",
   "execution_count": 28,
   "metadata": {
    "collapsed": false
   },
   "outputs": [
    {
     "data": {
      "image/png": "[encoded data removed]",
      "text/plain": [
       "<matplotlib.figure.Figure at 0x1066719b0>"
      ]
     },
     "metadata": {},
     "output_type": "display_data"
    },
    {
     "data": {
      "text/plain": [
       "0.9851119396030626"
      ]
     },
     "execution_count": 28,
     "metadata": {},
     "output_type": "execute_result"
    }
   ],
   "source": [
    "def calculate_neighborhood_function(input_vector, center_vector, neighborhood_width, iteration):\n",
    "    '''\n",
    "    Calculates the neighborhood training coeficient with a gausian function\n",
    "    '''\n",
    "    euclidian_norm = calculate_euclidian_distance(input_vector, center_vector)\n",
    "    return math.exp(-((euclidian_norm**2) / (2 * iteration * (neighborhood_width**2))))\n",
    "    \n",
    "inputs = [x for x in range(30)]\n",
    "line = plt.plot(inputs, [calculate_neighborhood_function(neurons.StepActivationNeuron([-1.4 + x * .1, -1.3 + x * .1, -1.1 + x * .1], 1).weights, neurons.StepActivationNeuron([.1, .2, .3], 1).weights, 1, 1) for x in range(30)]);\n",
    "plt.show();\n",
    "calculate_neighborhood_function(neurons.StepActivationNeuron([.2, .3, .4], 1).weights, neurons.StepActivationNeuron([.1, .2, .3], 1).weights, 1, 1)"
   ]
  },
  {
   "cell_type": "code",
   "execution_count": 10,
   "metadata": {
    "collapsed": false
   },
   "outputs": [
    {
     "data": {
      "text/plain": [
       "<matplotlib.image.AxesImage at 0x1060cc7b8>"
      ]
     },
     "execution_count": 10,
     "metadata": {},
     "output_type": "execute_result"
    },
    {
     "data": {
      "image/png": "[encoded data removed]",
      "text/plain": [
       "<matplotlib.figure.Figure at 0x105f71588>"
      ]
     },
     "metadata": {},
     "output_type": "display_data"
    }
   ],
   "source": [
    "# number of iterations.\n",
    "iterations  = 1\n",
    "\n",
    "# create a random set of 15 training RGB values.\n",
    "training_set = [ x for x in np.random.random((15,3))]\n",
    "\n",
    "best_matching_units = []\n",
    "\n",
    "# Create a 50x50 array of neurons with 3 random weights each.\n",
    "matrix_width = 10;\n",
    "output_neurons = [[neurons.StepActivationNeuron(np.random.random(3), 1) for y in range(matrix_width)] for z in range(matrix_width)]\n",
    "output_weights = [[neuron.weights for neuron in row] for row in output_neurons]\n",
    "\n",
    "#Find the best matching neuron for each training item\n",
    "for training_item in training_set:\n",
    "    distances = [[calculate_euclidian_distance(training_item, neuron.weights) for neuron in row] for row in output_neurons]\n",
    "    # the neuron with the smalleest distance fron the training example\n",
    "    best_matching_index = np.argmin(distances);\n",
    "    best_matching_index_tuple = np.unravel_index(best_matching_index, (matrix_width, matrix_width));\n",
    "#     print(distances)\n",
    "#     print(best_matching_index)\n",
    "#     print(best_matching_index_tuple)\n",
    "#     print(distances[best_matching_index_tuple[0]][best_matching_index_tuple[1]])\n",
    "    \n",
    "    # print(training_item)\n",
    "    \n",
    "# plot the weights as rgb colors.\n",
    "plt.imshow(output_weights, interpolation = \"none\")\n"
   ]
  },
  {
   "cell_type": "code",
   "execution_count": null,
   "metadata": {
    "collapsed": true
   },
   "outputs": [],
   "source": []
  }
 ],
 "metadata": {
  "kernelspec": {
   "display_name": "Python 3",
   "language": "python",
   "name": "python3"
  },
  "language_info": {
   "codemirror_mode": {
    "name": "ipython",
    "version": 3
   },
   "file_extension": ".py",
   "mimetype": "text/x-python",
   "name": "python",
   "nbconvert_exporter": "python",
   "pygments_lexer": "ipython3",
   "version": "3.4.4"
  }
 },
 "nbformat": 4,
 "nbformat_minor": 0
}
