{
 "cells": [
  {
   "cell_type": "code",
   "execution_count": 1,
   "metadata": {
    "collapsed": false
   },
   "outputs": [],
   "source": [
    "'''\n",
    "Normalization in the process of encoding raw data into a feature vector. \n",
    "A feature vector is the set of inputs into a neural Net. \n",
    "'''\n",
    "\n",
    "%matplotlib inline\n",
    "import numpy\n",
    "import matplotlib.pyplot as plt\n",
    "import functools\n",
    "import math\n",
    "import normalization"
   ]
  },
  {
   "cell_type": "code",
   "execution_count": null,
   "metadata": {
    "collapsed": true
   },
   "outputs": [],
   "source": []
  },
  {
   "cell_type": "code",
   "execution_count": null,
   "metadata": {
    "collapsed": true
   },
   "outputs": [],
   "source": []
  },
  {
   "cell_type": "code",
   "execution_count": 2,
   "metadata": {
    "collapsed": false
   },
   "outputs": [],
   "source": [
    "data = ((5.1, 3.5, 1.4, 0.2, \"Iris-setosa\"),\n",
    "        (7.0, 3.2, 4.7, 1.4, \"Iris-versicolor\"),\n",
    "        (7.0, 3.2, 4.7, 1.4, \"Iris-versicolor\"),\n",
    "        (6.3, 3.3, 6.0, 2.5, \"Iris-virginica\"))"
   ]
  },
  {
   "cell_type": "code",
   "execution_count": 3,
   "metadata": {
    "collapsed": false
   },
   "outputs": [
    {
     "name": "stdout",
     "output_type": "stream",
     "text": [
      "[5.1, 7.0, 7.0, 6.3]\n",
      "(-1.610391566002078, 0.83740361432107924, 0.83740361432107924, -0.064415662640083984)\n",
      "(17.585475900742676,)\n"
     ]
    }
   ],
   "source": [
    "column = [x[0] for x in data]\n",
    "print(column)\n",
    "\n",
    "# Z-Score normalization returns a tuple of values normalized to the number of standard deviations from the mean.\n",
    "normalizer = normalization.ZScore(column)\n",
    "\n",
    "print(normalizer.data)\n",
    "print(normalizer.normalize([20]))"
   ]
  },
  {
   "cell_type": "code",
   "execution_count": 4,
   "metadata": {
    "collapsed": false
   },
   "outputs": [
    {
     "name": "stdout",
     "output_type": "stream",
     "text": [
      "['Iris-setosa', 'Iris-versicolor', 'Iris-versicolor', 'Iris-virginica']\n",
      "((1.0, 0.0, 0.0), (0.0, 1.0, 0.0), (0.0, 1.0, 0.0), (0.0, 0.0, 1.0))\n",
      "((0.0, 1.0, 0.0), (1.0, 0.0, 0.0))\n"
     ]
    }
   ],
   "source": [
    "column = [x[4] for x in data]\n",
    "print(column)\n",
    "\n",
    "# One Hot nortmalization encodes unordered categorical data into numerical vectors that can be used by a neural net.\n",
    "normalizer = normalization.OneHot(column)\n",
    "\n",
    "print(normalizer.data)\n",
    "print(normalizer.normalize([\"Iris-versicolor\", \"Iris-setosa\"]))"
   ]
  },
  {
   "cell_type": "code",
   "execution_count": 5,
   "metadata": {
    "collapsed": false
   },
   "outputs": [
    {
     "name": "stdout",
     "output_type": "stream",
     "text": [
      "[0, 255, 125, 10]\n",
      "(0.0, 1.0)\n",
      "(0.0392156862745098, 0.0, 1.0, 0.49019607843137253)\n"
     ]
    }
   ],
   "source": [
    "column = [0, 255, 125, 10]\n",
    "print(column)\n",
    "\n",
    "# Range normalization returns normalizes data within a specific range to between 0 and 1.\n",
    "normalizer = normalization.Range((0, 255))\n",
    "\n",
    "print(normalizer.data)\n",
    "print(normalizer.normalize([10, 0, 255, 125]))"
   ]
  },
  {
   "cell_type": "code",
   "execution_count": 6,
   "metadata": {
    "collapsed": false
   },
   "outputs": [
    {
     "name": "stdout",
     "output_type": "stream",
     "text": [
      "[[-1.61039157  1.63299316 -1.64563588 -1.44427495  1.          0.          0.        ]\n",
      " [ 0.83740361 -0.81649658  0.29386355  0.03072925  0.          1.          0.        ]\n",
      " [ 0.83740361 -0.81649658  0.29386355  0.03072925  0.          1.          0.        ]\n",
      " [-0.06441566  0.          1.05790878  1.38281644  0.          0.          1.        ]]\n"
     ]
    }
   ],
   "source": [
    "print(numpy.array(normalization.normalize([normalization.ZScore, \n",
    "                                           normalization.ZScore,\n",
    "                                           normalization.ZScore, \n",
    "                                           normalization.ZScore,\n",
    "                                           normalization.OneHot], data)))"
   ]
  }
 ],
 "metadata": {
  "kernelspec": {
   "display_name": "Python 3",
   "language": "python",
   "name": "python3"
  },
  "language_info": {
   "codemirror_mode": {
    "name": "ipython",
    "version": 3
   },
   "file_extension": ".py",
   "mimetype": "text/x-python",
   "name": "python",
   "nbconvert_exporter": "python",
   "pygments_lexer": "ipython3",
   "version": "3.4.4"
  }
 },
 "nbformat": 4,
 "nbformat_minor": 0
}
