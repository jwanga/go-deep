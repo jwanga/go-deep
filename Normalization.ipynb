{
 "cells": [
  {
   "cell_type": "code",
   "execution_count": 1,
   "metadata": {
    "collapsed": false
   },
   "outputs": [],
   "source": [
    "'''\n",
    "Normalization in the process of encoding raw data into a feature vector. \n",
    "A feature vector is the set of inputs into a neural Net. \n",
    "'''\n",
    "\n",
    "%matplotlib inline\n",
    "import numpy\n",
    "import matplotlib.pyplot as plt\n",
    "import functools\n",
    "import math\n",
    "import normalization"
   ]
  },
  {
   "cell_type": "code",
   "execution_count": 2,
   "metadata": {
    "collapsed": false
   },
   "outputs": [
    {
     "data": {
      "text/plain": [
       "(0.8399639031533338,\n",
       " 0.152720709664245,\n",
       " -0.53452248382484679,\n",
       " -0.8781440805693943,\n",
       " 0.4963423064087894,\n",
       " 1.8708286933869731,\n",
       " -0.8781440805693943,\n",
       " 0.4963423064087894,\n",
       " -1.5653872740584831)"
      ]
     },
     "execution_count": 2,
     "metadata": {},
     "output_type": "execute_result"
    }
   ],
   "source": [
    "sequence = [5.1, 4.9, 4.7, 4.6, 5.0, 5.4, 4.6, 5.0, 4.4]\n",
    "\n",
    "# Z-Score normalization returns a list of values normalized to the number of standard deviations from the mean.\n",
    "normalization.z_score_normalize(sequence)"
   ]
  },
  {
   "cell_type": "code",
   "execution_count": 3,
   "metadata": {
    "collapsed": false
   },
   "outputs": [
    {
     "data": {
      "text/plain": [
       "((1.0, 0.0, 0.0), (0.0, 1.0, 0.0), (0.0, 0.0, 1.0))"
      ]
     },
     "execution_count": 3,
     "metadata": {},
     "output_type": "execute_result"
    }
   ],
   "source": [
    "\n",
    "sequence = ('chicken', 'beef', 'pork')\n",
    "\n",
    "# One Hot nortmalization encodes unordered categorical data into numerical vectors that can be used by a neural net.\n",
    "normalization.one_hot(sequence)"
   ]
  }
 ],
 "metadata": {
  "kernelspec": {
   "display_name": "Python 3",
   "language": "python",
   "name": "python3"
  },
  "language_info": {
   "codemirror_mode": {
    "name": "ipython",
    "version": 3
   },
   "file_extension": ".py",
   "mimetype": "text/x-python",
   "name": "python",
   "nbconvert_exporter": "python",
   "pygments_lexer": "ipython3",
   "version": "3.4.4"
  }
 },
 "nbformat": 4,
 "nbformat_minor": 0
}
