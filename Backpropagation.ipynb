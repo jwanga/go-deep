{
 "cells": [
  {
   "cell_type": "code",
   "execution_count": 51,
   "metadata": {
    "collapsed": false
   },
   "outputs": [],
   "source": [
    "%matplotlib inline\n",
    "import numpy\n",
    "import matplotlib.pyplot as plt\n",
    "import functools\n",
    "import math\n",
    "import neurons\n",
    "import normalization\n",
    "import networks"
   ]
  },
  {
   "cell_type": "code",
   "execution_count": null,
   "metadata": {
    "collapsed": false
   },
   "outputs": [
    {
     "name": "stdout",
     "output_type": "stream",
     "text": [
      "\n",
      "PRE-TRAINING WEIGHTS:\n",
      "[[{'weights': [1], 'error': 0}, {'weights': [1], 'error': 0}, 1], [{'weights': [0.13436424411240122, 0.8474337369372327, 0.763774618976614], 'error': 0}, 1], [{'weights': [0.2550690257394217, 0.49543508709194095], 'error': 0}, {'weights': [0.4494910647887381, 0.651592972722763], 'error': 0}]]\n",
      "\n",
      "PRE-TRAINING XOR TRUTH_TABLE:\n",
      "1 | 1 | 1\n",
      "1 | 0 | 1\n",
      "0 | 1 | 1\n",
      "0 | 0 | 1\n"
     ]
    }
   ],
   "source": [
    "# using Back propagation to learn contrived dataset\n",
    "# Create layers with predefined weights to make it easier to debug.\n",
    "layer_properties = ({\"neuron_type\": neurons.LinearActivationNeuron, \n",
    "                     \"neuron_count\": 2, \n",
    "                     \"initial_weights\": [[1], [1]],\n",
    "                     \"bias\": 1},\n",
    "                    \n",
    "                    {\"neuron_type\": neurons.SigmoidActivationNeuron, \n",
    "                     \"neuron_count\": 1, \n",
    "                     \"initial_weights\": [[0.13436424411240122, 0.8474337369372327, 0.763774618976614]],\n",
    "                     \"bias\": 1},\n",
    "                    \n",
    "                    {\"neuron_type\": neurons.SigmoidActivationNeuron, \n",
    "                     \"neuron_count\": 2, \n",
    "                     \"initial_weights\": [[0.2550690257394217, 0.49543508709194095], [0.4494910647887381, 0.651592972722763]]})\n",
    "\n",
    "network_properties = {\"learning_rate\": .1}\n",
    "\n",
    "network = networks.BackPropagationNetwork(layer_properties, network_properties)\n",
    "train = True\n",
    "\n",
    "training_data = [[1.0, 1.0, [1.0, 0.0]], [1.0, 0.0, [0.0, 1.0]], [0.0, 1.0, [0.0, 1.0]], [0.0, 0.0, [1.0, 0.0]]]\n",
    "\n",
    "print('\\nPRE-TRAINING WEIGHTS:')\n",
    "print(numpy.array(network))\n",
    "\n",
    "print('\\nPRE-TRAINING XOR TRUTH_TABLE:')\n",
    " \n",
    "for pair in training_data:\n",
    "    outputs = network.compute([pair[:-1]])[-1:][0]\n",
    "    print('{0} | {1} | {2}'.format(int(pair[0]), int(pair[1]), outputs.index(max(outputs))))\n"
   ]
  },
  {
   "cell_type": "code",
   "execution_count": null,
   "metadata": {
    "collapsed": false
   },
   "outputs": [
    {
     "name": "stdout",
     "output_type": "stream",
     "text": [
      "epoch: 1          learning rate: 0.1             error: 2.3307648639048923\n",
      "epoch: 2          learning rate: 0.1             error: 2.314091289924137\n",
      "epoch: 3          learning rate: 0.1             error: 2.298009046575471\n",
      "epoch: 4          learning rate: 0.1             error: 2.2825257914173256\n",
      "epoch: 5          learning rate: 0.1             error: 2.267646293667837\n",
      "...\n"
     ]
    }
   ],
   "source": [
    "#XOR training data\n",
    "number_of_epochs = 2000000\n",
    "\n",
    "network.train(training_data, number_of_epochs)\n",
    "\n",
    "print('\\nPOST-LEARNING WEIGHTS:')\n",
    "print(numpy.array(network))\n",
    "\n",
    "print('\\nPOST-TRAINING XOR TRUTH_TABLE:')\n",
    " \n",
    "for pair in training_data:\n",
    "    outputs = network.compute([pair[:-1]])[-1:][0]\n",
    "    print('{0} | {1} | {2}'.format(int(pair[0]), int(pair[1]), outputs.index(max(outputs))))"
   ]
  },
  {
   "cell_type": "code",
   "execution_count": null,
   "metadata": {
    "collapsed": false
   },
   "outputs": [],
   "source": [
    "inputs = [1,2,[7,9]]\n",
    "\n",
    "inputs[-1:]"
   ]
  },
  {
   "cell_type": "code",
   "execution_count": null,
   "metadata": {
    "collapsed": true
   },
   "outputs": [],
   "source": []
  }
 ],
 "metadata": {
  "kernelspec": {
   "display_name": "Python 3",
   "language": "python",
   "name": "python3"
  },
  "language_info": {
   "codemirror_mode": {
    "name": "ipython",
    "version": 3
   },
   "file_extension": ".py",
   "mimetype": "text/x-python",
   "name": "python",
   "nbconvert_exporter": "python",
   "pygments_lexer": "ipython3",
   "version": "3.4.4"
  }
 },
 "nbformat": 4,
 "nbformat_minor": 0
}
