{
 "cells": [
  {
   "cell_type": "code",
   "execution_count": 1,
   "metadata": {
    "collapsed": false
   },
   "outputs": [],
   "source": [
    "%matplotlib inline\n",
    "import numpy\n",
    "import matplotlib.pyplot as plt\n",
    "import functools\n",
    "import math\n",
    "import neurons\n",
    "import normalization\n",
    "import networks"
   ]
  },
  {
   "cell_type": "code",
   "execution_count": 2,
   "metadata": {
    "collapsed": false
   },
   "outputs": [
    {
     "name": "stdout",
     "output_type": "stream",
     "text": [
      "\n",
      "PRE-LEARNING WEIGHTS:\n",
      "[[{'error': 0, 'weights': [1]}, {'error': 0, 'weights': [1]}, 1], [{'error': 0, 'weights': [0.13436424411240122, 0.8474337369372327, 0.763774618976614]}, 1], [{'error': 0, 'weights': [0.2550690257394217, 0.49543508709194095]}, {'error': 0, 'weights': [0.4494910647887381, 0.651592972722763]}]]\n",
      "\n",
      "OUTPUTS:\n",
      "[[1.0, 0.0, 1], [0.7105668883115941, 1], [0.6629970129852887, 0.7253160725279748]]\n",
      "\n",
      "POST-LEARNING WEIGHTS:\n",
      "[[{'error': 0, 'weights': [1]}, {'error': 0, 'weights': [1]}, 1], [{'error': -0.007468605456070418, 'weights': [0.130629941384366, 0.8474337369372327, 0.7600403162485788]}, 1], [{'error': 0.07529724255099601, 'weights': [0.281820889408374, 0.5330837083674389]}, {'error': -0.1445066558817715, 'weights': [0.3981502423836258, 0.5793396447818772]}]]\n"
     ]
    }
   ],
   "source": [
    "# using Back propagation to learn contrived dataset\n",
    "# Create layers with predefined weights\n",
    "layer_properties = ({\"neuron_type\": neurons.LinearActivationNeuron, \n",
    "                     \"neuron_count\": 2, \n",
    "                     \"initial_weights\": [[1], [1]],\n",
    "                     \"bias\": 1},\n",
    "                    \n",
    "                    {\"neuron_type\": neurons.SigmoidActivationNeuron, \n",
    "                     \"neuron_count\": 1, \n",
    "                     \"initial_weights\": [[0.13436424411240122, 0.8474337369372327, 0.763774618976614]],\n",
    "                     \"bias\": 1},\n",
    "                    \n",
    "                    {\"neuron_type\": neurons.SigmoidActivationNeuron, \n",
    "                     \"neuron_count\": 2, \n",
    "                     \"initial_weights\": [[0.2550690257394217, 0.49543508709194095], [0.4494910647887381, 0.651592972722763]]})\n",
    "\n",
    "network_properties = {\"learning_rate\": .5}\n",
    "\n",
    "network = networks.BackPropagationNetwork(layer_properties, network_properties)\n",
    "train = True\n",
    "\n",
    "print('\\nPRE-LEARNING WEIGHTS:')\n",
    "print(numpy.array(network))\n",
    "print('\\nOUTPUTS:')\n",
    "print(network.compute([[1.0, 0.0]], [[1.0, 0.0]]))\n",
    "print('\\nPOST-LEARNING WEIGHTS:')\n",
    "print(numpy.array(network))"
   ]
  },
  {
   "cell_type": "code",
   "execution_count": 3,
   "metadata": {
    "collapsed": false
   },
   "outputs": [
    {
     "ename": "IndexError",
     "evalue": "tuple index out of range",
     "output_type": "error",
     "traceback": [
      "\u001b[0;31m---------------------------------------------------------------------------\u001b[0m",
      "\u001b[0;31mIndexError\u001b[0m                                Traceback (most recent call last)",
      "\u001b[0;32m<ipython-input-3-4096685f0031>\u001b[0m in \u001b[0;36m<module>\u001b[0;34m()\u001b[0m\n\u001b[1;32m      3\u001b[0m \u001b[0mnumber_of_epochs\u001b[0m \u001b[0;34m=\u001b[0m \u001b[0;36m20\u001b[0m\u001b[0;34m\u001b[0m\u001b[0m\n\u001b[1;32m      4\u001b[0m \u001b[0;34m\u001b[0m\u001b[0m\n\u001b[0;32m----> 5\u001b[0;31m \u001b[0mnetwork\u001b[0m\u001b[0;34m.\u001b[0m\u001b[0mtrain\u001b[0m\u001b[0;34m(\u001b[0m\u001b[0mtraining_data\u001b[0m\u001b[0;34m,\u001b[0m \u001b[0mnumber_of_epochs\u001b[0m\u001b[0;34m)\u001b[0m\u001b[0;34m\u001b[0m\u001b[0m\n\u001b[0m",
      "\u001b[0;32m/Users/jwanga/Dev/go-deep/networks.py\u001b[0m in \u001b[0;36mtrain\u001b[0;34m(self, training_data, number_of_epochs)\u001b[0m\n\u001b[1;32m    147\u001b[0m             \u001b[0;31m# we must reset the error sum each epoch\u001b[0m\u001b[0;34m\u001b[0m\u001b[0;34m\u001b[0m\u001b[0m\n\u001b[1;32m    148\u001b[0m             \u001b[0msum_of_errors\u001b[0m \u001b[0;34m=\u001b[0m \u001b[0;36m0\u001b[0m\u001b[0;34m\u001b[0m\u001b[0m\n\u001b[0;32m--> 149\u001b[0;31m             \u001b[0mprint\u001b[0m\u001b[0;34m(\u001b[0m\u001b[0;34m\"epoch: {0:<10} learning rate: {1:<15} error: {2:<10}\"\u001b[0m\u001b[0;34m.\u001b[0m\u001b[0mformat\u001b[0m\u001b[0;34m(\u001b[0m\u001b[0mepoch\u001b[0m \u001b[0;34m+\u001b[0m \u001b[0;36m1\u001b[0m\u001b[0;34m,\u001b[0m \u001b[0mself\u001b[0m\u001b[0;34m.\u001b[0m\u001b[0mnetwork_properties\u001b[0m\u001b[0;34m.\u001b[0m\u001b[0mget\u001b[0m\u001b[0;34m(\u001b[0m\u001b[0;34m\"learning_rate\"\u001b[0m\u001b[0;34m)\u001b[0m\u001b[0;34m)\u001b[0m\u001b[0;34m)\u001b[0m\u001b[0;34m\u001b[0m\u001b[0m\n\u001b[0m\u001b[1;32m    150\u001b[0m \u001b[0;34m\u001b[0m\u001b[0m\n\u001b[1;32m    151\u001b[0m \u001b[0;34m\u001b[0m\u001b[0m\n",
      "\u001b[0;31mIndexError\u001b[0m: tuple index out of range"
     ]
    }
   ],
   "source": [
    "#XOR training data\n",
    "training_data = [[1.0, 0.0, [1.0, 0.0]], [0.0, 1.0, [1.0, 0.0]], [1.0, 1.0, [0.0, 1.0]], [0.0, 0.0, [0.0, 1.0]]]\n",
    "number_of_epochs = 20\n",
    "\n",
    "network.train(training_data, number_of_epochs)"
   ]
  }
 ],
 "metadata": {
  "kernelspec": {
   "display_name": "Python 3",
   "language": "python",
   "name": "python3"
  },
  "language_info": {
   "codemirror_mode": {
    "name": "ipython",
    "version": 3
   },
   "file_extension": ".py",
   "mimetype": "text/x-python",
   "name": "python",
   "nbconvert_exporter": "python",
   "pygments_lexer": "ipython3",
   "version": "3.4.4"
  }
 },
 "nbformat": 4,
 "nbformat_minor": 0
}
