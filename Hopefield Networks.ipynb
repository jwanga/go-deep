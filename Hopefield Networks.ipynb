{
 "cells": [
  {
   "cell_type": "code",
   "execution_count": 59,
   "metadata": {
    "collapsed": false
   },
   "outputs": [],
   "source": [
    "%matplotlib inline\n",
    "import numpy\n",
    "import matplotlib.pyplot as plt\n",
    "import functools\n",
    "import math\n",
    "import neurons\n",
    "import random"
   ]
  },
  {
   "cell_type": "code",
   "execution_count": 60,
   "metadata": {
    "collapsed": false
   },
   "outputs": [
    {
     "name": "stdout",
     "output_type": "stream",
     "text": [
      "[ 0.  0.  0.  0.]\n",
      "[ 0.  0.  0.  0.]\n",
      "[ 0.  0.  0.  0.]\n",
      "[ 0.  0.  0.  0.]\n",
      "\n",
      "[0, 0, 0, 0]\n",
      "\n"
     ]
    }
   ],
   "source": [
    "# training_set = [[1, 1, 0, 0, 0, 0, 0, 0],\n",
    "#                 [0, 0, 0, 0, 1, 1, 0, 0],\n",
    "#                 [1, 0, 0, 0, 0, 0, 0, 1],\n",
    "#                 [0, 0, 0, 1, 1, 0, 0, 0]]\n",
    "\n",
    "# new_pattern = [1, 1, 1, 0, 0, 0, 0, 0]\n",
    "\n",
    "training_set = [[1, 0, 0, 1],\n",
    "                [0, 1, 1, 0],\n",
    "                [1, 0, 1, 0]]\n",
    "\n",
    "new_pattern = [1, 0, 1, 1]\n",
    "\n",
    "neuron_count = len(new_pattern);\n",
    "\n",
    "#create a hopefield network of n neurons with n weights each.\n",
    "hopefield_network = [neurons.HopefieldActivationNeuron(numpy.zeros((neuron_count)), 1) \n",
    "                    for i in range(neuron_count)] \n",
    "\n",
    "def get_states():\n",
    "    return [hopefield_network[i].state\n",
    "           for i in range(neuron_count)]\n",
    "\n",
    "def print_weights():\n",
    "    for i in range(neuron_count):\n",
    "        print(hopefield_network[i].weights)\n",
    "    print()\n",
    "        \n",
    "def print_states():\n",
    "    print(get_states())\n",
    "    print()\n",
    "        \n",
    "print_weights()\n",
    "print_states()"
   ]
  },
  {
   "cell_type": "code",
   "execution_count": 61,
   "metadata": {
    "collapsed": false
   },
   "outputs": [],
   "source": [
    "def train(patterns):\n",
    "    '''\n",
    "    Train the network with a hebbian process\n",
    "    '''\n",
    "    for pattern in patterns:\n",
    "        for i in range(neuron_count):\n",
    "            for j in range(neuron_count):\n",
    "                weight = 0 if (i == j) else hopefield_network[i].weights[j] + ((pattern[i] * pattern[j]) / len(patterns))\n",
    "                hopefield_network[i].weights[j] = weight\n",
    "\n",
    "def compute(pattern = None):\n",
    "    '''\n",
    "    compute the network state for a new pattern\n",
    "    '''\n",
    "    for index, neuron in enumerate(hopefield_network):\n",
    "        state = pattern if index == 0 and pattern != None else get_states()\n",
    "        neuron.compute(state)"
   ]
  },
  {
   "cell_type": "code",
   "execution_count": 62,
   "metadata": {
    "collapsed": false
   },
   "outputs": [
    {
     "name": "stdout",
     "output_type": "stream",
     "text": [
      "[ 0.          0.          0.33333333  0.33333333]\n",
      "[ 0.          0.          0.33333333  0.        ]\n",
      "[ 0.33333333  0.33333333  0.          0.        ]\n",
      "[ 0.33333333  0.          0.          0.        ]\n",
      "\n"
     ]
    }
   ],
   "source": [
    "train(training_set)\n",
    "print_weights()"
   ]
  },
  {
   "cell_type": "code",
   "execution_count": 63,
   "metadata": {
    "collapsed": false,
    "scrolled": true
   },
   "outputs": [
    {
     "name": "stdout",
     "output_type": "stream",
     "text": [
      "[1, 0, 1, 1]\n",
      "\n"
     ]
    }
   ],
   "source": [
    "compute(new_pattern)\n",
    "print_states()"
   ]
  },
  {
   "cell_type": "code",
   "execution_count": null,
   "metadata": {
    "collapsed": true
   },
   "outputs": [],
   "source": []
  }
 ],
 "metadata": {
  "kernelspec": {
   "display_name": "Python 3",
   "language": "python",
   "name": "python3"
  },
  "language_info": {
   "codemirror_mode": {
    "name": "ipython",
    "version": 3
   },
   "file_extension": ".py",
   "mimetype": "text/x-python",
   "name": "python",
   "nbconvert_exporter": "python",
   "pygments_lexer": "ipython3",
   "version": "3.4.4"
  }
 },
 "nbformat": 4,
 "nbformat_minor": 0
}
