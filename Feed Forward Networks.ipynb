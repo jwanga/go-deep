{
 "cells": [
  {
   "cell_type": "code",
   "execution_count": 57,
   "metadata": {
    "collapsed": false
   },
   "outputs": [],
   "source": [
    "%matplotlib inline\n",
    "import numpy\n",
    "import matplotlib.pyplot as plt\n",
    "import functools\n",
    "import math\n",
    "import neurons\n",
    "import normalization"
   ]
  },
  {
   "cell_type": "code",
   "execution_count": 58,
   "metadata": {
    "collapsed": false
   },
   "outputs": [
    {
     "name": "stdout",
     "output_type": "stream",
     "text": [
      "(5.1, 3.5, 1.4, 0.2, b'Iris-setosa')\n",
      "(7.0, 3.2, 4.7, 1.4, b'Iris-versicolor')\n",
      "(6.3, 3.3, 6.0, 2.5, b'Iris-virginica')\n"
     ]
    }
   ],
   "source": [
    "irisData = numpy.genfromtxt('data/iris.csv',  delimiter=\",\", dtype=\"float, float, float, float, S20\")\n",
    "\n",
    "print(irisData[0])\n",
    "print(irisData[50])\n",
    "print(irisData[100])"
   ]
  },
  {
   "cell_type": "code",
   "execution_count": 59,
   "metadata": {
    "collapsed": false
   },
   "outputs": [],
   "source": [
    "class FeedForwardNetwork:\n",
    "    '''\n",
    "    Represents a feedforward network.\n",
    "    '''\n",
    "    \n",
    "    def __init__(self, neuronType, layerNeuronCounts, defaultBias):\n",
    "        self.neuronType = neuronType\n",
    "        self.layerNeuronCounts = layerNeuronCounts\n",
    "        self.defaultBias = defaultBias\n",
    "        self.__createLayers()\n",
    "        \n",
    "    def __createLayers(self):\n",
    "        \n",
    "        #initialize layers\n",
    "        self.layers = [[] for i in self.layerNeuronCounts]\n",
    "        \n",
    "        for index, count in enumerate(self.layerNeuronCounts):\n",
    "            \n",
    "            #The first layer is input, the last is output, the rest are hidden.\n",
    "            if index == 0:\n",
    "                self.__createInputLayer(index)\n",
    "            elif index == len(self.layerNeuronCounts) - 1:\n",
    "                self.__createOutputLayer(index)\n",
    "            else:\n",
    "                self.__createHiddenLayer(index)\n",
    "                \n",
    "    \n",
    "    def __createInputLayer(self, layerIndex):\n",
    "        # input neurons have a single weight\n",
    "        weightCount = 1\n",
    "        appendBias = True\n",
    "        self.__appendNeuron(layerIndex, weightCount, appendBias)\n",
    "        \n",
    "    def __createHiddenLayer(self, layerIndex):\n",
    "        #Each neurons weight count is equal to the number of non bias neurons in the privious layer\n",
    "        weightCount = len(self.layers[layerIndex - 1]) - 1\n",
    "        appendBias = True\n",
    "        self.__appendNeuron(layerIndex, weightCount, appendBias)\n",
    "        \n",
    "    def __createOutputLayer(self, layerIndex):\n",
    "        #Each neurons weight count is equal to the number of non bias neurons in the privious layer\n",
    "        weightCount = len(self.layers[layerIndex - 1]) - 1\n",
    "        appendBias = False\n",
    "        self.__appendNeuron(layerIndex, weightCount, appendBias)\n",
    "        \n",
    "    def __appendNeuron(self, layerIndex, weightCount, appendBias):\n",
    "        self.layers[layerIndex] = [self.neuronType(numpy.random.random(weightCount).tolist(), self.defaultBias) \n",
    "                                   for i in range(self.layerNeuronCounts[layerIndex])]\n",
    "        if appendBias:\n",
    "            self.__appendBiasNeuron(layerIndex)\n",
    "        \n",
    "    def __appendBiasNeuron(self, layerIndex):\n",
    "        self.layers[layerIndex].append(neurons.BiasNeuron(self.defaultBias))\n",
    "        \n",
    "    \n",
    "    def __repr__(self):\n",
    "        return repr(self.layers)\n",
    "    \n",
    "    def compute(inputs, train):\n",
    "        '''\n",
    "        computes the current input. If train = True, also adjust weights\n",
    "        '''\n",
    "        \n",
    "        for index, neuron in enumerate(self.layer[0]):\n",
    "            neuron.weights = [inputs[index]]\n",
    "            \n",
    "        return "
   ]
  },
  {
   "cell_type": "code",
   "execution_count": 60,
   "metadata": {
    "collapsed": false
   },
   "outputs": [
    {
     "name": "stdout",
     "output_type": "stream",
     "text": [
      "[[[0.6484459567527465], [0.28580690267309095], [0.8832153473862399], [0.4540280077867501], 1], [[0.9722452367805915, 0.9054913028948433, 0.03029938427817347, 0.8726471340844025], [0.2685756448754085, 0.6156536980625519, 0.022837845171690185, 0.8237506387402658], [0.9942307732260917, 0.5154985812284801, 0.12235391834672782, 0.7726627120355131], [0.5377890797478697, 0.1554708191772075, 0.8103386491585916, 0.5282670349013745], 1], [[0.3174125151579258, 0.8002703146265296, 0.6313248627022748, 0.8265013846292838]]]\n"
     ]
    }
   ],
   "source": [
    "# the number of non-bias neurons in each layer\n",
    "layerNeuronCounts = (4, 4, 1)\n",
    "defaultBias = 1\n",
    "\n",
    "neuronType = neurons.SigmoidActivationNeuron\n",
    "network = FeedForwardNetwork(neuronType, layerNeuronCounts, defaultBias)\n",
    "print(network)"
   ]
  }
 ],
 "metadata": {
  "kernelspec": {
   "display_name": "Python 3",
   "language": "python",
   "name": "python3"
  },
  "language_info": {
   "codemirror_mode": {
    "name": "ipython",
    "version": 3
   },
   "file_extension": ".py",
   "mimetype": "text/x-python",
   "name": "python",
   "nbconvert_exporter": "python",
   "pygments_lexer": "ipython3",
   "version": "3.4.4"
  }
 },
 "nbformat": 4,
 "nbformat_minor": 0
}
