{
 "cells": [
  {
   "cell_type": "code",
   "execution_count": 47,
   "metadata": {
    "collapsed": false
   },
   "outputs": [],
   "source": [
    "%matplotlib inline\n",
    "import numpy\n",
    "import matplotlib.pyplot as plt\n",
    "import functools\n",
    "import math\n",
    "import neurons\n",
    "import normalization"
   ]
  },
  {
   "cell_type": "code",
   "execution_count": 48,
   "metadata": {
    "collapsed": false
   },
   "outputs": [
    {
     "name": "stdout",
     "output_type": "stream",
     "text": [
      "(5.1, 3.5, 1.4, 0.2, b'Iris-setosa')\n"
     ]
    }
   ],
   "source": [
    "irisData = numpy.genfromtxt('data/iris.csv',  delimiter=\",\", dtype=\"float, float, float, float, S20\")\n",
    "\n",
    "encode data\n",
    "print(irisData[0])"
   ]
  },
  {
   "cell_type": "code",
   "execution_count": 49,
   "metadata": {
    "collapsed": false
   },
   "outputs": [],
   "source": [
    "class FeedForwardNetwork:\n",
    "    '''\n",
    "    Represents a feedforward network.\n",
    "    '''\n",
    "    \n",
    "    def __init__(self, neuronType, layerNeuronCounts, defaultBias):\n",
    "        self.neuronType = neuronType\n",
    "        self.layerNeuronCounts = layerNeuronCounts\n",
    "        self.defaultBias = defaultBias\n",
    "        self.__createLayers()\n",
    "        \n",
    "    def __createLayers(self):\n",
    "        \n",
    "        #initialize layers\n",
    "        self.layers = [[] for i in self.layerNeuronCounts]\n",
    "        \n",
    "        for index, count in enumerate(self.layerNeuronCounts):\n",
    "            \n",
    "            #The first layer is input, the last is output, the rest are hidden.\n",
    "            if index == 0:\n",
    "                self.__createInputLayer(index)\n",
    "            elif index == len(self.layerNeuronCounts) - 1:\n",
    "                self.__createOutputLayer(index)\n",
    "            else:\n",
    "                self.__createHiddenLayer(index)\n",
    "                \n",
    "    \n",
    "    def __createInputLayer(self, layerIndex):\n",
    "        # input neurons have a single weight\n",
    "        weightCount = 1\n",
    "        appendBias = True\n",
    "        self.__appendNeuron(layerIndex, weightCount, appendBias)\n",
    "        \n",
    "    def __createHiddenLayer(self, layerIndex):\n",
    "        #Each neurons weight count is equal to the number of non bias neurons in the privious layer\n",
    "        weightCount = len(self.layers[layerIndex - 1]) - 1\n",
    "        appendBias = True\n",
    "        self.__appendNeuron(layerIndex, weightCount, appendBias)\n",
    "        \n",
    "    def __createOutputLayer(self, layerIndex):\n",
    "        #Each neurons weight count is equal to the number of non bias neurons in the privious layer\n",
    "        weightCount = len(self.layers[layerIndex - 1]) - 1\n",
    "        appendBias = False\n",
    "        self.__appendNeuron(layerIndex, weightCount, appendBias)\n",
    "        \n",
    "    def __appendNeuron(self, layerIndex, weightCount, appendBias):\n",
    "        self.layers[layerIndex] = [self.neuronType(numpy.random.random(weightCount).tolist(), self.defaultBias) \n",
    "                                   for i in range(self.layerNeuronCounts[layerIndex])]\n",
    "        if appendBias:\n",
    "            self.__appendBiasNeuron(layerIndex)\n",
    "        \n",
    "    def __appendBiasNeuron(self, layerIndex):\n",
    "        self.layers[layerIndex].append(neurons.BiasNeuron(self.defaultBias))\n",
    "        \n",
    "    \n",
    "    def __repr__(self):\n",
    "        return repr(self.layers)\n",
    "    \n",
    "    def compute(inputs, train):\n",
    "        '''\n",
    "        computes the current input. If train = True, also adjust weights\n",
    "        '''\n",
    "        \n",
    "        for index, neuron in enumerate(self.layer[0]):\n",
    "            neuron.weights = [inputs[index]]\n",
    "            \n",
    "        return "
   ]
  },
  {
   "cell_type": "code",
   "execution_count": 50,
   "metadata": {
    "collapsed": false
   },
   "outputs": [
    {
     "name": "stdout",
     "output_type": "stream",
     "text": [
      "[[[0.31310184392830753], [0.8497415932751838], [0.995859195490301], [0.027279932242685545], 1], [[0.8135654559190993, 0.4209788473259244, 0.943566701889544, 0.31193251489510965], [0.23377689755117226, 0.3225378375068635, 0.9966610837718131, 0.7199891857153777], [0.8059907571008667, 0.2568140988837201, 0.06485591314429662, 0.4658462090036064], [0.9726334116687185, 0.1846421889795684, 0.1332333372263842, 0.5765257949282863], 1], [[0.9425097704943368, 0.24037900982170501, 0.42380112308594764, 0.8253936735861571]]]\n"
     ]
    }
   ],
   "source": [
    "# the number of non-bias neurons in each layer\n",
    "layerNeuronCounts = (4, 4, 1)\n",
    "defaultBias = 1\n",
    "\n",
    "neuronType = neurons.SigmoidActivationNeuron\n",
    "network = FeedForwardNetwork(neuronType, layerNeuronCounts, defaultBias)\n",
    "print(network)"
   ]
  }
 ],
 "metadata": {
  "kernelspec": {
   "display_name": "Python 3",
   "language": "python",
   "name": "python3"
  },
  "language_info": {
   "codemirror_mode": {
    "name": "ipython",
    "version": 3
   },
   "file_extension": ".py",
   "mimetype": "text/x-python",
   "name": "python",
   "nbconvert_exporter": "python",
   "pygments_lexer": "ipython3",
   "version": "3.4.4"
  }
 },
 "nbformat": 4,
 "nbformat_minor": 0
}
